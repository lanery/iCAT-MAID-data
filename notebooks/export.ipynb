{
 "cells": [
  {
   "cell_type": "markdown",
   "metadata": {},
   "source": [
    "# Export\n",
    "\n",
    "#### Overview\n",
    "Notebook for exporting CATMAID data to iCAT-MAID-data repository for use with `OpenSeadragon`"
   ]
  },
  {
   "cell_type": "code",
   "execution_count": 34,
   "metadata": {},
   "outputs": [],
   "source": [
    "from pathlib import Path\n",
    "from tqdm.notebook import tqdm\n",
    "\n",
    "import numpy as np\n",
    "import pandas as pd\n",
    "import matplotlib.pyplot as plt\n",
    "\n",
    "from skimage import (img_as_ubyte, img_as_float,\n",
    "                     io, color, util, exposure)"
   ]
  },
  {
   "cell_type": "code",
   "execution_count": 2,
   "metadata": {},
   "outputs": [],
   "source": [
    "# Add modules to PATH\n",
    "# -------------------\n",
    "import sys\n",
    "fp = Path('./notebooks/')\n",
    "if fp.as_posix() not in sys.path:\n",
    "    sys.path.insert(0, fp.as_posix())\n",
    "\n",
    "# Import modules\n",
    "from dataframe import compile_DataFrame\n",
    "from colorize import transform, trevni"
   ]
  },
  {
   "cell_type": "code",
   "execution_count": 63,
   "metadata": {},
   "outputs": [],
   "source": [
    "# Suppress warnings\n",
    "import warnings\n",
    "warnings.simplefilter('ignore', UserWarning)"
   ]
  },
  {
   "cell_type": "markdown",
   "metadata": {},
   "source": [
    "## Organize\n",
    "---"
   ]
  },
  {
   "cell_type": "code",
   "execution_count": 49,
   "metadata": {},
   "outputs": [
    {
     "name": "stdout",
     "output_type": "stream",
     "text": [
      "Location.... \\\\sonic\\long_term_storage\\rlane\\CATMAID\\projects\\20200507_RL012\n",
      "Export to... M:\\tnw\\ist\\do\\projects\\iCAT\\development\\iCAT-MAID-data\\projects\\20200507_RL012\n",
      "Project..... 20200507_RL012\n",
      "Stacks...... ['lil_EM_montaged', 'hoechst_correlated', 'insulin_correlated']\n",
      "...\n",
      "\n"
     ]
    },
    {
     "data": {
      "text/html": [
       "<div>\n",
       "<style scoped>\n",
       "    .dataframe tbody tr th:only-of-type {\n",
       "        vertical-align: middle;\n",
       "    }\n",
       "\n",
       "    .dataframe tbody tr th {\n",
       "        vertical-align: top;\n",
       "    }\n",
       "\n",
       "    .dataframe thead th {\n",
       "        text-align: right;\n",
       "    }\n",
       "</style>\n",
       "<table border=\"1\" class=\"dataframe\">\n",
       "  <thead>\n",
       "    <tr style=\"text-align: right;\">\n",
       "      <th>stack</th>\n",
       "      <th>z</th>\n",
       "      <th>y</th>\n",
       "      <th>x</th>\n",
       "      <th>zoom</th>\n",
       "      <th>hoechst_correlated</th>\n",
       "      <th>insulin_correlated</th>\n",
       "      <th>lil_EM_montaged</th>\n",
       "    </tr>\n",
       "  </thead>\n",
       "  <tbody>\n",
       "    <tr>\n",
       "      <th>12504</th>\n",
       "      <td>6</td>\n",
       "      <td>28</td>\n",
       "      <td>8</td>\n",
       "      <td>0</td>\n",
       "      <td>\\\\sonic\\long_term_storage\\rlane\\CATMAID\\projec...</td>\n",
       "      <td>\\\\sonic\\long_term_storage\\rlane\\CATMAID\\projec...</td>\n",
       "      <td>\\\\sonic\\long_term_storage\\rlane\\CATMAID\\projec...</td>\n",
       "    </tr>\n",
       "    <tr>\n",
       "      <th>5162</th>\n",
       "      <td>2</td>\n",
       "      <td>24</td>\n",
       "      <td>31</td>\n",
       "      <td>0</td>\n",
       "      <td>\\\\sonic\\long_term_storage\\rlane\\CATMAID\\projec...</td>\n",
       "      <td>\\\\sonic\\long_term_storage\\rlane\\CATMAID\\projec...</td>\n",
       "      <td>\\\\sonic\\long_term_storage\\rlane\\CATMAID\\projec...</td>\n",
       "    </tr>\n",
       "    <tr>\n",
       "      <th>8864</th>\n",
       "      <td>4</td>\n",
       "      <td>24</td>\n",
       "      <td>13</td>\n",
       "      <td>0</td>\n",
       "      <td>\\\\sonic\\long_term_storage\\rlane\\CATMAID\\projec...</td>\n",
       "      <td>\\\\sonic\\long_term_storage\\rlane\\CATMAID\\projec...</td>\n",
       "      <td>\\\\sonic\\long_term_storage\\rlane\\CATMAID\\projec...</td>\n",
       "    </tr>\n",
       "    <tr>\n",
       "      <th>1558</th>\n",
       "      <td>0</td>\n",
       "      <td>31</td>\n",
       "      <td>27</td>\n",
       "      <td>0</td>\n",
       "      <td>\\\\sonic\\long_term_storage\\rlane\\CATMAID\\projec...</td>\n",
       "      <td>\\\\sonic\\long_term_storage\\rlane\\CATMAID\\projec...</td>\n",
       "      <td>\\\\sonic\\long_term_storage\\rlane\\CATMAID\\projec...</td>\n",
       "    </tr>\n",
       "    <tr>\n",
       "      <th>2292</th>\n",
       "      <td>1</td>\n",
       "      <td>8</td>\n",
       "      <td>6</td>\n",
       "      <td>1</td>\n",
       "      <td>\\\\sonic\\long_term_storage\\rlane\\CATMAID\\projec...</td>\n",
       "      <td>\\\\sonic\\long_term_storage\\rlane\\CATMAID\\projec...</td>\n",
       "      <td>\\\\sonic\\long_term_storage\\rlane\\CATMAID\\projec...</td>\n",
       "    </tr>\n",
       "  </tbody>\n",
       "</table>\n",
       "</div>"
      ],
      "text/plain": [
       "stack  z   y   x  zoom                                 hoechst_correlated  \\\n",
       "12504  6  28   8     0  \\\\sonic\\long_term_storage\\rlane\\CATMAID\\projec...   \n",
       "5162   2  24  31     0  \\\\sonic\\long_term_storage\\rlane\\CATMAID\\projec...   \n",
       "8864   4  24  13     0  \\\\sonic\\long_term_storage\\rlane\\CATMAID\\projec...   \n",
       "1558   0  31  27     0  \\\\sonic\\long_term_storage\\rlane\\CATMAID\\projec...   \n",
       "2292   1   8   6     1  \\\\sonic\\long_term_storage\\rlane\\CATMAID\\projec...   \n",
       "\n",
       "stack                                 insulin_correlated  \\\n",
       "12504  \\\\sonic\\long_term_storage\\rlane\\CATMAID\\projec...   \n",
       "5162   \\\\sonic\\long_term_storage\\rlane\\CATMAID\\projec...   \n",
       "8864   \\\\sonic\\long_term_storage\\rlane\\CATMAID\\projec...   \n",
       "1558   \\\\sonic\\long_term_storage\\rlane\\CATMAID\\projec...   \n",
       "2292   \\\\sonic\\long_term_storage\\rlane\\CATMAID\\projec...   \n",
       "\n",
       "stack                                    lil_EM_montaged  \n",
       "12504  \\\\sonic\\long_term_storage\\rlane\\CATMAID\\projec...  \n",
       "5162   \\\\sonic\\long_term_storage\\rlane\\CATMAID\\projec...  \n",
       "8864   \\\\sonic\\long_term_storage\\rlane\\CATMAID\\projec...  \n",
       "1558   \\\\sonic\\long_term_storage\\rlane\\CATMAID\\projec...  \n",
       "2292   \\\\sonic\\long_term_storage\\rlane\\CATMAID\\projec...  "
      ]
     },
     "execution_count": 49,
     "metadata": {},
     "output_type": "execute_result"
    }
   ],
   "source": [
    "# Project name\n",
    "# ------------\n",
    "project = '20200507_RL012'\n",
    "\n",
    "# Project location\n",
    "# ----------------\n",
    "project_dir = Path('//sonic/long_term_storage/rlane/CATMAID/projects/')\n",
    "project_dir /= project\n",
    "\n",
    "# Stacks to export\n",
    "# ----------------\n",
    "stacks = ['lil_EM_montaged',\n",
    "          'hoechst_correlated',\n",
    "          'insulin_correlated']\n",
    "\n",
    "# Export directory\n",
    "export_dir = Path('M://tnw/ist/do/projects/iCAT/development/iCAT-MAID-data/projects')\n",
    "export_dir /= project\n",
    "\n",
    "# Compile project DataFrame\n",
    "# -------------------------\n",
    "df = compile_DataFrame(project_dir,\n",
    "                       stacks=stacks)\n",
    "\n",
    "# Preview\n",
    "# -------\n",
    "out = f\"\"\"\\\n",
    "Location.... {project_dir}\n",
    "Export to... {export_dir}\n",
    "Project..... {project}\n",
    "Stacks...... {stacks}\n",
    "...\n",
    "\"\"\"\n",
    "print(out)\n",
    "df.sample(5)"
   ]
  },
  {
   "cell_type": "markdown",
   "metadata": {},
   "source": [
    "## Export\n",
    "---"
   ]
  },
  {
   "cell_type": "markdown",
   "metadata": {},
   "source": [
    "#### Postprocessing settings"
   ]
  },
  {
   "cell_type": "code",
   "execution_count": 80,
   "metadata": {},
   "outputs": [],
   "source": [
    "# Color transforms\n",
    "# ----------------\n",
    "color_transform = {\n",
    "    'hoechst_correlated': [[0.2, 0.0, 0.0, 0.2],\n",
    "                           [0.0, 0.2, 0.0, 0.2],\n",
    "                           [0.0, 0.0, 1.0, 1.0],\n",
    "                           [0.0, 0.0, 0.0, 0.0]],\n",
    "\n",
    "    'insulin_correlated': [[1.0, 0.0, 0.0, 1.0],\n",
    "                           [0.0, 0.6, 0.0, 0.6],\n",
    "                           [0.0, 0.0, 0.0, 0.0],\n",
    "                           [0.0, 0.0, 0.0, 0.0]],\n",
    "}\n",
    "\n",
    "# Transparencies\n",
    "# --------------\n",
    "alphas = {\n",
    "    'hoechst_correlated': 1.0,\n",
    "    'insulin_correlated': 0.6,\n",
    "    'lil_EM_montaged':    1.0\n",
    "}"
   ]
  },
  {
   "cell_type": "markdown",
   "metadata": {},
   "source": [
    "#### Filter"
   ]
  },
  {
   "cell_type": "code",
   "execution_count": 81,
   "metadata": {},
   "outputs": [
    {
     "data": {
      "text/html": [
       "<div>\n",
       "<style scoped>\n",
       "    .dataframe tbody tr th:only-of-type {\n",
       "        vertical-align: middle;\n",
       "    }\n",
       "\n",
       "    .dataframe tbody tr th {\n",
       "        vertical-align: top;\n",
       "    }\n",
       "\n",
       "    .dataframe thead th {\n",
       "        text-align: right;\n",
       "    }\n",
       "</style>\n",
       "<table border=\"1\" class=\"dataframe\">\n",
       "  <thead>\n",
       "    <tr style=\"text-align: right;\">\n",
       "      <th>stack</th>\n",
       "      <th>z</th>\n",
       "      <th>y</th>\n",
       "      <th>x</th>\n",
       "      <th>zoom</th>\n",
       "      <th>hoechst_correlated</th>\n",
       "      <th>insulin_correlated</th>\n",
       "      <th>lil_EM_montaged</th>\n",
       "    </tr>\n",
       "  </thead>\n",
       "  <tbody>\n",
       "    <tr>\n",
       "      <th>11346</th>\n",
       "      <td>6</td>\n",
       "      <td>4</td>\n",
       "      <td>9</td>\n",
       "      <td>2</td>\n",
       "      <td>\\\\sonic\\long_term_storage\\rlane\\CATMAID\\projec...</td>\n",
       "      <td>\\\\sonic\\long_term_storage\\rlane\\CATMAID\\projec...</td>\n",
       "      <td>\\\\sonic\\long_term_storage\\rlane\\CATMAID\\projec...</td>\n",
       "    </tr>\n",
       "    <tr>\n",
       "      <th>95</th>\n",
       "      <td>0</td>\n",
       "      <td>3</td>\n",
       "      <td>10</td>\n",
       "      <td>2</td>\n",
       "      <td>\\\\sonic\\long_term_storage\\rlane\\CATMAID\\projec...</td>\n",
       "      <td>\\\\sonic\\long_term_storage\\rlane\\CATMAID\\projec...</td>\n",
       "      <td>\\\\sonic\\long_term_storage\\rlane\\CATMAID\\projec...</td>\n",
       "    </tr>\n",
       "    <tr>\n",
       "      <th>5934</th>\n",
       "      <td>3</td>\n",
       "      <td>1</td>\n",
       "      <td>2</td>\n",
       "      <td>4</td>\n",
       "      <td>\\\\sonic\\long_term_storage\\rlane\\CATMAID\\projec...</td>\n",
       "      <td>\\\\sonic\\long_term_storage\\rlane\\CATMAID\\projec...</td>\n",
       "      <td>\\\\sonic\\long_term_storage\\rlane\\CATMAID\\projec...</td>\n",
       "    </tr>\n",
       "  </tbody>\n",
       "</table>\n",
       "</div>"
      ],
      "text/plain": [
       "stack  z  y   x  zoom                                 hoechst_correlated  \\\n",
       "11346  6  4   9     2  \\\\sonic\\long_term_storage\\rlane\\CATMAID\\projec...   \n",
       "95     0  3  10     2  \\\\sonic\\long_term_storage\\rlane\\CATMAID\\projec...   \n",
       "5934   3  1   2     4  \\\\sonic\\long_term_storage\\rlane\\CATMAID\\projec...   \n",
       "\n",
       "stack                                 insulin_correlated  \\\n",
       "11346  \\\\sonic\\long_term_storage\\rlane\\CATMAID\\projec...   \n",
       "95     \\\\sonic\\long_term_storage\\rlane\\CATMAID\\projec...   \n",
       "5934   \\\\sonic\\long_term_storage\\rlane\\CATMAID\\projec...   \n",
       "\n",
       "stack                                    lil_EM_montaged  \n",
       "11346  \\\\sonic\\long_term_storage\\rlane\\CATMAID\\projec...  \n",
       "95     \\\\sonic\\long_term_storage\\rlane\\CATMAID\\projec...  \n",
       "5934   \\\\sonic\\long_term_storage\\rlane\\CATMAID\\projec...  "
      ]
     },
     "execution_count": 81,
     "metadata": {},
     "output_type": "execute_result"
    }
   ],
   "source": [
    "# Set min/max zoom levels\n",
    "# -----------------------\n",
    "zoom_min = 2\n",
    "zoom_max = 6\n",
    "\n",
    "# Filter to min/max zoom levels\n",
    "# -----------------------------\n",
    "source = df.loc[(df['zoom'] >= zoom_min) &\\\n",
    "                (df['zoom'] <= zoom_max)].dropna(axis=0)\n",
    "\n",
    "# Preview\n",
    "# -------\n",
    "source.sample(3)"
   ]
  },
  {
   "cell_type": "markdown",
   "metadata": {},
   "source": [
    "#### Export"
   ]
  },
  {
   "cell_type": "code",
   "execution_count": 83,
   "metadata": {},
   "outputs": [
    {
     "data": {
      "application/vnd.jupyter.widget-view+json": {
       "model_id": "d1f09d959a284c358d01cbc5a378b162",
       "version_major": 2,
       "version_minor": 0
      },
      "text/plain": [
       "HBox(children=(IntProgress(value=0, max=950), HTML(value='')))"
      ]
     },
     "metadata": {},
     "output_type": "display_data"
    },
    {
     "name": "stdout",
     "output_type": "stream",
     "text": [
      "\n"
     ]
    }
   ],
   "source": [
    "# Iterate through tile images\n",
    "for i, row in tqdm(source.loc[:].iterrows(),\n",
    "                   total=len(source)):\n",
    "\n",
    "    fps = row[stacks]\n",
    "    images = []\n",
    "    for stack in stacks:\n",
    "        if 'EM' in stack:\n",
    "            im = trevni(fps[stack])\n",
    "        else:\n",
    "            im = transform(fps[stack], color_transform[stack])\n",
    "        images.append(im * alphas[stack])\n",
    "    composite = np.sum(images, axis=0)\n",
    "\n",
    "    rescaled = exposure.rescale_intensity(composite,\n",
    "                                          in_range=(0, 1))\n",
    "\n",
    "    # Save to iCAT-MAID-data project\n",
    "    tgt = export_dir / f\"{row['z']:.0f}\"\n",
    "    tgt.mkdir(parents=False, exist_ok=True)\n",
    "    tgt /= f\"{row['y']:.0f}_{row['x']:.0f}_{row['zoom']:.0f}.png\"\n",
    "    io.imsave(tgt.as_posix(), img_as_ubyte(rescaled))"
   ]
  }
 ],
 "metadata": {
  "kernelspec": {
   "display_name": "Python 3",
   "language": "python",
   "name": "python3"
  },
  "language_info": {
   "codemirror_mode": {
    "name": "ipython",
    "version": 3
   },
   "file_extension": ".py",
   "mimetype": "text/x-python",
   "name": "python",
   "nbconvert_exporter": "python",
   "pygments_lexer": "ipython3",
   "version": "3.7.5"
  }
 },
 "nbformat": 4,
 "nbformat_minor": 4
}
